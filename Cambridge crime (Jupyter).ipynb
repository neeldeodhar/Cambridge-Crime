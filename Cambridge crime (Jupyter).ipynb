{
 "cells": [
  {
   "cell_type": "code",
   "execution_count": 7,
   "id": "ddb6c04a",
   "metadata": {},
   "outputs": [],
   "source": [
    "#downloading dataset, importing libraries\n",
    "\n",
    "import pandas as pd\n",
    "\n",
    "import numpy as np\n",
    "\n",
    "import os\n",
    "\n",
    "import matplotlib.pyplot as plt\n",
    "\n",
    "import seaborn as sns\n",
    "\n",
    "import sys\n",
    "\n",
    "import scipy.cluster.hierarchy as sch\n",
    "\n",
    "from sklearn.preprocessing import OrdinalEncoder\n",
    "from sklearn.preprocessing import OneHotEncoder\n",
    "from sklearn.cluster import KMeans\n",
    "\n",
    "from sklearn.cluster import AgglomerativeClustering"
   ]
  },
  {
   "cell_type": "code",
   "execution_count": 8,
   "id": "5fa25635",
   "metadata": {},
   "outputs": [
    {
     "data": {
      "text/html": [
       "<div>\n",
       "<style scoped>\n",
       "    .dataframe tbody tr th:only-of-type {\n",
       "        vertical-align: middle;\n",
       "    }\n",
       "\n",
       "    .dataframe tbody tr th {\n",
       "        vertical-align: top;\n",
       "    }\n",
       "\n",
       "    .dataframe thead th {\n",
       "        text-align: right;\n",
       "    }\n",
       "</style>\n",
       "<table border=\"1\" class=\"dataframe\">\n",
       "  <thead>\n",
       "    <tr style=\"text-align: right;\">\n",
       "      <th></th>\n",
       "      <th>File Number</th>\n",
       "      <th>Date of Report</th>\n",
       "      <th>Crime Date Time</th>\n",
       "      <th>Crime</th>\n",
       "      <th>Reporting Area</th>\n",
       "      <th>Neighborhood</th>\n",
       "      <th>Location</th>\n",
       "    </tr>\n",
       "  </thead>\n",
       "  <tbody>\n",
       "    <tr>\n",
       "      <th>0</th>\n",
       "      <td>2009-00002</td>\n",
       "      <td>01/01/2009 12:39:00 AM</td>\n",
       "      <td>1/1/09 0:39</td>\n",
       "      <td>Simple Assault</td>\n",
       "      <td>504.0</td>\n",
       "      <td>Cambridgeport</td>\n",
       "      <td>400 Massachusetts Avenue, Cambridge, MA</td>\n",
       "    </tr>\n",
       "    <tr>\n",
       "      <th>1</th>\n",
       "      <td>2009-00003</td>\n",
       "      <td>01/01/2009 01:34:00 AM</td>\n",
       "      <td>1/1/09 1:34</td>\n",
       "      <td>Simple Assault</td>\n",
       "      <td>610.0</td>\n",
       "      <td>Mid-Cambridge</td>\n",
       "      <td>200 HAMPSHIRE STREET, Cambridge, MA</td>\n",
       "    </tr>\n",
       "    <tr>\n",
       "      <th>2</th>\n",
       "      <td>2009-00004</td>\n",
       "      <td>01/01/2009 01:43:00 AM</td>\n",
       "      <td>01/01/2009 02:20 - 02:35</td>\n",
       "      <td>Aggravated Assault</td>\n",
       "      <td>708.0</td>\n",
       "      <td>Riverside</td>\n",
       "      <td>DUNSTER STREET &amp; MOUNT AUBURN STREET, Cambridg...</td>\n",
       "    </tr>\n",
       "    <tr>\n",
       "      <th>3</th>\n",
       "      <td>2009-00005</td>\n",
       "      <td>01/01/2009 02:27:00 AM</td>\n",
       "      <td>01/01/2009 02:20 - 02:45</td>\n",
       "      <td>Simple Assault</td>\n",
       "      <td>105.0</td>\n",
       "      <td>East Cambridge</td>\n",
       "      <td>100 SCIARAPPA STREET, Cambridge, MA</td>\n",
       "    </tr>\n",
       "    <tr>\n",
       "      <th>4</th>\n",
       "      <td>2009-00006</td>\n",
       "      <td>01/01/2009 02:34:00 AM</td>\n",
       "      <td>01/01/2009 02:15 - 02:35</td>\n",
       "      <td>Disorderly</td>\n",
       "      <td>708.0</td>\n",
       "      <td>Riverside</td>\n",
       "      <td>1200 Massachusetts Avenue, Cambridge, MA</td>\n",
       "    </tr>\n",
       "  </tbody>\n",
       "</table>\n",
       "</div>"
      ],
      "text/plain": [
       "  File Number          Date of Report           Crime Date Time  \\\n",
       "0  2009-00002  01/01/2009 12:39:00 AM               1/1/09 0:39   \n",
       "1  2009-00003  01/01/2009 01:34:00 AM               1/1/09 1:34   \n",
       "2  2009-00004  01/01/2009 01:43:00 AM  01/01/2009 02:20 - 02:35   \n",
       "3  2009-00005  01/01/2009 02:27:00 AM  01/01/2009 02:20 - 02:45   \n",
       "4  2009-00006  01/01/2009 02:34:00 AM  01/01/2009 02:15 - 02:35   \n",
       "\n",
       "                Crime  Reporting Area    Neighborhood  \\\n",
       "0      Simple Assault           504.0   Cambridgeport   \n",
       "1      Simple Assault           610.0   Mid-Cambridge   \n",
       "2  Aggravated Assault           708.0       Riverside   \n",
       "3      Simple Assault           105.0  East Cambridge   \n",
       "4          Disorderly           708.0       Riverside   \n",
       "\n",
       "                                            Location  \n",
       "0            400 Massachusetts Avenue, Cambridge, MA  \n",
       "1                200 HAMPSHIRE STREET, Cambridge, MA  \n",
       "2  DUNSTER STREET & MOUNT AUBURN STREET, Cambridg...  \n",
       "3                100 SCIARAPPA STREET, Cambridge, MA  \n",
       "4           1200 Massachusetts Avenue, Cambridge, MA  "
      ]
     },
     "execution_count": 8,
     "metadata": {},
     "output_type": "execute_result"
    }
   ],
   "source": [
    "#reading the dataset, deleting missing value entries\n",
    "df = pd.read_csv('Cambridge Crime Data.csv')\n",
    "#printing first 5 rows\n",
    "df.head()\n",
    "\n"
   ]
  },
  {
   "cell_type": "code",
   "execution_count": 9,
   "id": "695abbac",
   "metadata": {},
   "outputs": [
    {
     "data": {
      "text/plain": [
       "Index(['File Number', 'Date of Report', 'Crime Date Time', 'Crime',\n",
       "       'Reporting Area', 'Neighborhood', 'Location'],\n",
       "      dtype='object')"
      ]
     },
     "execution_count": 9,
     "metadata": {},
     "output_type": "execute_result"
    }
   ],
   "source": [
    "#printing columns list\n",
    "df.columns"
   ]
  },
  {
   "cell_type": "code",
   "execution_count": 10,
   "id": "e2bdf87a",
   "metadata": {},
   "outputs": [],
   "source": [
    "# Encoding, using ONE HOT ENCODER \n",
    "enc = OneHotEncoder()\n",
    "\n",
    "df_onehot = pd.get_dummies(df[['Crime', 'Neighborhood']])\n",
    "\n",
    "#df = enc.fit_transform(df[['Crime', 'Neighborhood']])\n",
    "df_onehot['Reporting Area'] = df['Reporting Area']\n",
    "\n"
   ]
  },
  {
   "cell_type": "code",
   "execution_count": 11,
   "id": "0d16ffe0",
   "metadata": {},
   "outputs": [
    {
     "data": {
      "text/html": [
       "<div>\n",
       "<style scoped>\n",
       "    .dataframe tbody tr th:only-of-type {\n",
       "        vertical-align: middle;\n",
       "    }\n",
       "\n",
       "    .dataframe tbody tr th {\n",
       "        vertical-align: top;\n",
       "    }\n",
       "\n",
       "    .dataframe thead th {\n",
       "        text-align: right;\n",
       "    }\n",
       "</style>\n",
       "<table border=\"1\" class=\"dataframe\">\n",
       "  <thead>\n",
       "    <tr style=\"text-align: right;\">\n",
       "      <th></th>\n",
       "      <th>File Number</th>\n",
       "      <th>Date of Report</th>\n",
       "      <th>Crime Date Time</th>\n",
       "      <th>Crime</th>\n",
       "      <th>Reporting Area</th>\n",
       "      <th>Neighborhood</th>\n",
       "      <th>Location</th>\n",
       "    </tr>\n",
       "  </thead>\n",
       "  <tbody>\n",
       "    <tr>\n",
       "      <th>0</th>\n",
       "      <td>2009-00002</td>\n",
       "      <td>01/01/2009 12:39:00 AM</td>\n",
       "      <td>1/1/09 0:39</td>\n",
       "      <td>Simple Assault</td>\n",
       "      <td>504.0</td>\n",
       "      <td>Cambridgeport</td>\n",
       "      <td>400 Massachusetts Avenue, Cambridge, MA</td>\n",
       "    </tr>\n",
       "    <tr>\n",
       "      <th>1</th>\n",
       "      <td>2009-00003</td>\n",
       "      <td>01/01/2009 01:34:00 AM</td>\n",
       "      <td>1/1/09 1:34</td>\n",
       "      <td>Simple Assault</td>\n",
       "      <td>610.0</td>\n",
       "      <td>Mid-Cambridge</td>\n",
       "      <td>200 HAMPSHIRE STREET, Cambridge, MA</td>\n",
       "    </tr>\n",
       "    <tr>\n",
       "      <th>2</th>\n",
       "      <td>2009-00004</td>\n",
       "      <td>01/01/2009 01:43:00 AM</td>\n",
       "      <td>01/01/2009 02:20 - 02:35</td>\n",
       "      <td>Aggravated Assault</td>\n",
       "      <td>708.0</td>\n",
       "      <td>Riverside</td>\n",
       "      <td>DUNSTER STREET &amp; MOUNT AUBURN STREET, Cambridg...</td>\n",
       "    </tr>\n",
       "    <tr>\n",
       "      <th>3</th>\n",
       "      <td>2009-00005</td>\n",
       "      <td>01/01/2009 02:27:00 AM</td>\n",
       "      <td>01/01/2009 02:20 - 02:45</td>\n",
       "      <td>Simple Assault</td>\n",
       "      <td>105.0</td>\n",
       "      <td>East Cambridge</td>\n",
       "      <td>100 SCIARAPPA STREET, Cambridge, MA</td>\n",
       "    </tr>\n",
       "    <tr>\n",
       "      <th>4</th>\n",
       "      <td>2009-00006</td>\n",
       "      <td>01/01/2009 02:34:00 AM</td>\n",
       "      <td>01/01/2009 02:15 - 02:35</td>\n",
       "      <td>Disorderly</td>\n",
       "      <td>708.0</td>\n",
       "      <td>Riverside</td>\n",
       "      <td>1200 Massachusetts Avenue, Cambridge, MA</td>\n",
       "    </tr>\n",
       "    <tr>\n",
       "      <th>...</th>\n",
       "      <td>...</td>\n",
       "      <td>...</td>\n",
       "      <td>...</td>\n",
       "      <td>...</td>\n",
       "      <td>...</td>\n",
       "      <td>...</td>\n",
       "      <td>...</td>\n",
       "    </tr>\n",
       "    <tr>\n",
       "      <th>56009</th>\n",
       "      <td>2016-07187</td>\n",
       "      <td>09/30/2016 04:05:00 PM</td>\n",
       "      <td>09/28/2016 17:00 - 18:00</td>\n",
       "      <td>Larceny from Residence</td>\n",
       "      <td>510.0</td>\n",
       "      <td>Cambridgeport</td>\n",
       "      <td>0 FAIRMONT AVE, Cambridge, MA</td>\n",
       "    </tr>\n",
       "    <tr>\n",
       "      <th>56010</th>\n",
       "      <td>2016-07189</td>\n",
       "      <td>09/30/2016 05:38:00 PM</td>\n",
       "      <td>09/30/2016 16:30 - 17:38</td>\n",
       "      <td>Hit and Run</td>\n",
       "      <td>1105.0</td>\n",
       "      <td>North Cambridge</td>\n",
       "      <td>2000 MASSACHUSETTS AVE, Cambridge, MA</td>\n",
       "    </tr>\n",
       "    <tr>\n",
       "      <th>56011</th>\n",
       "      <td>2016-07192</td>\n",
       "      <td>09/30/2016 06:52:00 PM</td>\n",
       "      <td>09/16/2016 18:52 - 09/30/2016 18:52</td>\n",
       "      <td>Harassment</td>\n",
       "      <td>702.0</td>\n",
       "      <td>Riverside</td>\n",
       "      <td>0 Soden St, Cambridge, MA</td>\n",
       "    </tr>\n",
       "    <tr>\n",
       "      <th>56012</th>\n",
       "      <td>2016-07194</td>\n",
       "      <td>09/30/2016 07:52:00 PM</td>\n",
       "      <td>09/30/2016 19:51</td>\n",
       "      <td>Hit and Run</td>\n",
       "      <td>1002.0</td>\n",
       "      <td>West Cambridge</td>\n",
       "      <td>University Rd &amp; Mount Auburn St, Cambridge, MA</td>\n",
       "    </tr>\n",
       "    <tr>\n",
       "      <th>56013</th>\n",
       "      <td>2016-07195</td>\n",
       "      <td>09/30/2016 09:44:00 PM</td>\n",
       "      <td>09/30/2016 21:43</td>\n",
       "      <td>Simple Assault</td>\n",
       "      <td>1002.0</td>\n",
       "      <td>West Cambridge</td>\n",
       "      <td>BRATTLE ST &amp; JFK ST, Cambridge, MA</td>\n",
       "    </tr>\n",
       "  </tbody>\n",
       "</table>\n",
       "<p>56014 rows × 7 columns</p>\n",
       "</div>"
      ],
      "text/plain": [
       "      File Number          Date of Report  \\\n",
       "0      2009-00002  01/01/2009 12:39:00 AM   \n",
       "1      2009-00003  01/01/2009 01:34:00 AM   \n",
       "2      2009-00004  01/01/2009 01:43:00 AM   \n",
       "3      2009-00005  01/01/2009 02:27:00 AM   \n",
       "4      2009-00006  01/01/2009 02:34:00 AM   \n",
       "...           ...                     ...   \n",
       "56009  2016-07187  09/30/2016 04:05:00 PM   \n",
       "56010  2016-07189  09/30/2016 05:38:00 PM   \n",
       "56011  2016-07192  09/30/2016 06:52:00 PM   \n",
       "56012  2016-07194  09/30/2016 07:52:00 PM   \n",
       "56013  2016-07195  09/30/2016 09:44:00 PM   \n",
       "\n",
       "                           Crime Date Time                   Crime  \\\n",
       "0                              1/1/09 0:39          Simple Assault   \n",
       "1                              1/1/09 1:34          Simple Assault   \n",
       "2                 01/01/2009 02:20 - 02:35      Aggravated Assault   \n",
       "3                 01/01/2009 02:20 - 02:45          Simple Assault   \n",
       "4                 01/01/2009 02:15 - 02:35              Disorderly   \n",
       "...                                    ...                     ...   \n",
       "56009             09/28/2016 17:00 - 18:00  Larceny from Residence   \n",
       "56010             09/30/2016 16:30 - 17:38             Hit and Run   \n",
       "56011  09/16/2016 18:52 - 09/30/2016 18:52              Harassment   \n",
       "56012                     09/30/2016 19:51             Hit and Run   \n",
       "56013                     09/30/2016 21:43          Simple Assault   \n",
       "\n",
       "       Reporting Area     Neighborhood  \\\n",
       "0               504.0    Cambridgeport   \n",
       "1               610.0    Mid-Cambridge   \n",
       "2               708.0        Riverside   \n",
       "3               105.0   East Cambridge   \n",
       "4               708.0        Riverside   \n",
       "...               ...              ...   \n",
       "56009           510.0    Cambridgeport   \n",
       "56010          1105.0  North Cambridge   \n",
       "56011           702.0        Riverside   \n",
       "56012          1002.0   West Cambridge   \n",
       "56013          1002.0   West Cambridge   \n",
       "\n",
       "                                                Location  \n",
       "0                400 Massachusetts Avenue, Cambridge, MA  \n",
       "1                    200 HAMPSHIRE STREET, Cambridge, MA  \n",
       "2      DUNSTER STREET & MOUNT AUBURN STREET, Cambridg...  \n",
       "3                    100 SCIARAPPA STREET, Cambridge, MA  \n",
       "4               1200 Massachusetts Avenue, Cambridge, MA  \n",
       "...                                                  ...  \n",
       "56009                      0 FAIRMONT AVE, Cambridge, MA  \n",
       "56010              2000 MASSACHUSETTS AVE, Cambridge, MA  \n",
       "56011                          0 Soden St, Cambridge, MA  \n",
       "56012     University Rd & Mount Auburn St, Cambridge, MA  \n",
       "56013                 BRATTLE ST & JFK ST, Cambridge, MA  \n",
       "\n",
       "[56014 rows x 7 columns]"
      ]
     },
     "metadata": {},
     "output_type": "display_data"
    }
   ],
   "source": [
    "display(df)"
   ]
  },
  {
   "cell_type": "code",
   "execution_count": 12,
   "id": "c02479fe",
   "metadata": {},
   "outputs": [
    {
     "data": {
      "text/plain": [
       "Index(['Crime_Accident', 'Crime_Admin Error', 'Crime_Aggravated Assault',\n",
       "       'Crime_Annoying & Accosting', 'Crime_Arson', 'Crime_Auto Theft',\n",
       "       'Crime_Commercial Break', 'Crime_Commercial Robbery',\n",
       "       'Crime_Counterfeiting', 'Crime_Disorderly', 'Crime_Domestic Dispute',\n",
       "       'Crime_Drinking in Public', 'Crime_Drugs', 'Crime_Embezzlement',\n",
       "       'Crime_Extortion/Blackmail', 'Crime_Flim Flam', 'Crime_Forgery',\n",
       "       'Crime_Gambling', 'Crime_Harassment', 'Crime_Hit and Run',\n",
       "       'Crime_Homicide', 'Crime_Housebreak', 'Crime_Indecent Exposure',\n",
       "       'Crime_Kidnapping', 'Crime_Larceny (Misc)',\n",
       "       'Crime_Larceny from Building', 'Crime_Larceny from MV',\n",
       "       'Crime_Larceny from Person', 'Crime_Larceny from Residence',\n",
       "       'Crime_Larceny of Bicycle', 'Crime_Larceny of Plate',\n",
       "       'Crime_Larceny of Services', 'Crime_Liquor Possession/Sale',\n",
       "       'Crime_Mal. Dest. Property', 'Crime_Missing Person',\n",
       "       'Crime_Noise Complaint', 'Crime_OUI', 'Crime_Peeping & Spying',\n",
       "       'Crime_Phone Calls', 'Crime_Prostitution', 'Crime_Rec. Stol. Property',\n",
       "       'Crime_Sex Offender Violation', 'Crime_Shoplifting',\n",
       "       'Crime_Simple Assault', 'Crime_Stalking', 'Crime_Street Robbery',\n",
       "       'Crime_Suspicious Package', 'Crime_Taxi Violation', 'Crime_Threats',\n",
       "       'Crime_Trespassing', 'Crime_Violation of H.O.',\n",
       "       'Crime_Violation of R.O.', 'Crime_Warrant Arrest',\n",
       "       'Crime_Weapon Violations', 'Neighborhood_Agassiz',\n",
       "       'Neighborhood_Area 4', 'Neighborhood_Cambridgeport',\n",
       "       'Neighborhood_East Cambridge', 'Neighborhood_Highlands',\n",
       "       'Neighborhood_Inman/Harrington', 'Neighborhood_MIT',\n",
       "       'Neighborhood_Mid-Cambridge', 'Neighborhood_North Cambridge',\n",
       "       'Neighborhood_Peabody', 'Neighborhood_Riverside',\n",
       "       'Neighborhood_Strawberry Hill', 'Neighborhood_West Cambridge',\n",
       "       'Reporting Area'],\n",
       "      dtype='object')"
      ]
     },
     "execution_count": 12,
     "metadata": {},
     "output_type": "execute_result"
    }
   ],
   "source": [
    "df_onehot.columns"
   ]
  },
  {
   "cell_type": "code",
   "execution_count": 13,
   "id": "da8fc117",
   "metadata": {},
   "outputs": [],
   "source": [
    "# dropping null values \n",
    "df_onehot.dropna(inplace=True) "
   ]
  },
  {
   "cell_type": "code",
   "execution_count": 14,
   "id": "f6c16338",
   "metadata": {},
   "outputs": [],
   "source": [
    "# defining x\n",
    "x_columns = 68\n",
    "\n",
    "#no selected features as one hot encoding being used.\n",
    "x = df_onehot.iloc[:, 0:x_columns].values"
   ]
  },
  {
   "cell_type": "code",
   "execution_count": 15,
   "id": "d95ead7d",
   "metadata": {},
   "outputs": [
    {
     "name": "stderr",
     "output_type": "stream",
     "text": [
      "C:\\Users\\ideod\\anaconda3\\Lib\\site-packages\\sklearn\\cluster\\_kmeans.py:1412: FutureWarning: The default value of `n_init` will change from 10 to 'auto' in 1.4. Set the value of `n_init` explicitly to suppress the warning\n",
      "  super()._check_params_vs_input(X, default_n_init=10)\n",
      "C:\\Users\\ideod\\anaconda3\\Lib\\site-packages\\sklearn\\cluster\\_kmeans.py:1412: FutureWarning: The default value of `n_init` will change from 10 to 'auto' in 1.4. Set the value of `n_init` explicitly to suppress the warning\n",
      "  super()._check_params_vs_input(X, default_n_init=10)\n",
      "C:\\Users\\ideod\\anaconda3\\Lib\\site-packages\\sklearn\\cluster\\_kmeans.py:1412: FutureWarning: The default value of `n_init` will change from 10 to 'auto' in 1.4. Set the value of `n_init` explicitly to suppress the warning\n",
      "  super()._check_params_vs_input(X, default_n_init=10)\n",
      "C:\\Users\\ideod\\anaconda3\\Lib\\site-packages\\sklearn\\cluster\\_kmeans.py:1412: FutureWarning: The default value of `n_init` will change from 10 to 'auto' in 1.4. Set the value of `n_init` explicitly to suppress the warning\n",
      "  super()._check_params_vs_input(X, default_n_init=10)\n",
      "C:\\Users\\ideod\\anaconda3\\Lib\\site-packages\\sklearn\\cluster\\_kmeans.py:1412: FutureWarning: The default value of `n_init` will change from 10 to 'auto' in 1.4. Set the value of `n_init` explicitly to suppress the warning\n",
      "  super()._check_params_vs_input(X, default_n_init=10)\n",
      "C:\\Users\\ideod\\anaconda3\\Lib\\site-packages\\sklearn\\cluster\\_kmeans.py:1412: FutureWarning: The default value of `n_init` will change from 10 to 'auto' in 1.4. Set the value of `n_init` explicitly to suppress the warning\n",
      "  super()._check_params_vs_input(X, default_n_init=10)\n",
      "C:\\Users\\ideod\\anaconda3\\Lib\\site-packages\\sklearn\\cluster\\_kmeans.py:1412: FutureWarning: The default value of `n_init` will change from 10 to 'auto' in 1.4. Set the value of `n_init` explicitly to suppress the warning\n",
      "  super()._check_params_vs_input(X, default_n_init=10)\n",
      "C:\\Users\\ideod\\anaconda3\\Lib\\site-packages\\sklearn\\cluster\\_kmeans.py:1412: FutureWarning: The default value of `n_init` will change from 10 to 'auto' in 1.4. Set the value of `n_init` explicitly to suppress the warning\n",
      "  super()._check_params_vs_input(X, default_n_init=10)\n",
      "C:\\Users\\ideod\\anaconda3\\Lib\\site-packages\\sklearn\\cluster\\_kmeans.py:1412: FutureWarning: The default value of `n_init` will change from 10 to 'auto' in 1.4. Set the value of `n_init` explicitly to suppress the warning\n",
      "  super()._check_params_vs_input(X, default_n_init=10)\n"
     ]
    }
   ],
   "source": [
    "#implementing Elbow method in Python\n",
    "crimeelbow = []\n",
    "K = range(1,10)\n",
    "for k in K:\n",
    "    kmeanModel = KMeans(n_clusters = k)\n",
    "    kmeanModel.fit(df_onehot)\n",
    "    crimeelbow.append(kmeanModel.inertia_)"
   ]
  },
  {
   "cell_type": "code",
   "execution_count": 16,
   "id": "7553c7dc",
   "metadata": {},
   "outputs": [
    {
     "data": {
      "image/png": "[encoded data removed]",
      "text/plain": [
       "<Figure size 1600x800 with 1 Axes>"
      ]
     },
     "metadata": {},
     "output_type": "display_data"
    }
   ],
   "source": [
    "#plotting Elbow method vs values of K\n",
    "plt.figure(figsize = (16,8))\n",
    "plt.plot(K, crimeelbow, 'bx-')\n",
    "plt.xlabel('k values')\n",
    "plt.ylabel ('elbow')\n",
    "plt.title('The Elbow Method showing the optimal k')\n",
    "plt.show()"
   ]
  },
  {
   "cell_type": "code",
   "execution_count": 17,
   "id": "d3660708",
   "metadata": {},
   "outputs": [
    {
     "name": "stdout",
     "output_type": "stream",
     "text": [
      "As per elbow method graph above, the curve is taking bend when clusters are 2\n"
     ]
    }
   ],
   "source": [
    "#observation:\n",
    "\n",
    "print(\"As per elbow method graph above, the curve is taking bend when clusters are 2\")"
   ]
  },
  {
   "cell_type": "code",
   "execution_count": 18,
   "id": "b9079e64",
   "metadata": {},
   "outputs": [
    {
     "name": "stderr",
     "output_type": "stream",
     "text": [
      "C:\\Users\\ideod\\anaconda3\\Lib\\site-packages\\sklearn\\cluster\\_kmeans.py:1412: FutureWarning: The default value of `n_init` will change from 10 to 'auto' in 1.4. Set the value of `n_init` explicitly to suppress the warning\n",
      "  super()._check_params_vs_input(X, default_n_init=10)\n"
     ]
    },
    {
     "data": {
      "text/html": [
       "<style>#sk-container-id-1 {color: black;}#sk-container-id-1 pre{padding: 0;}#sk-container-id-1 div.sk-toggleable {background-color: white;}#sk-container-id-1 label.sk-toggleable__label {cursor: pointer;display: block;width: 100%;margin-bottom: 0;padding: 0.3em;box-sizing: border-box;text-align: center;}#sk-container-id-1 label.sk-toggleable__label-arrow:before {content: \"▸\";float: left;margin-right: 0.25em;color: #696969;}#sk-container-id-1 label.sk-toggleable__label-arrow:hover:before {color: black;}#sk-container-id-1 div.sk-estimator:hover label.sk-toggleable__label-arrow:before {color: black;}#sk-container-id-1 div.sk-toggleable__content {max-height: 0;max-width: 0;overflow: hidden;text-align: left;background-color: #f0f8ff;}#sk-container-id-1 div.sk-toggleable__content pre {margin: 0.2em;color: black;border-radius: 0.25em;background-color: #f0f8ff;}#sk-container-id-1 input.sk-toggleable__control:checked~div.sk-toggleable__content {max-height: 200px;max-width: 100%;overflow: auto;}#sk-container-id-1 input.sk-toggleable__control:checked~label.sk-toggleable__label-arrow:before {content: \"▾\";}#sk-container-id-1 div.sk-estimator input.sk-toggleable__control:checked~label.sk-toggleable__label {background-color: #d4ebff;}#sk-container-id-1 div.sk-label input.sk-toggleable__control:checked~label.sk-toggleable__label {background-color: #d4ebff;}#sk-container-id-1 input.sk-hidden--visually {border: 0;clip: rect(1px 1px 1px 1px);clip: rect(1px, 1px, 1px, 1px);height: 1px;margin: -1px;overflow: hidden;padding: 0;position: absolute;width: 1px;}#sk-container-id-1 div.sk-estimator {font-family: monospace;background-color: #f0f8ff;border: 1px dotted black;border-radius: 0.25em;box-sizing: border-box;margin-bottom: 0.5em;}#sk-container-id-1 div.sk-estimator:hover {background-color: #d4ebff;}#sk-container-id-1 div.sk-parallel-item::after {content: \"\";width: 100%;border-bottom: 1px solid gray;flex-grow: 1;}#sk-container-id-1 div.sk-label:hover label.sk-toggleable__label {background-color: #d4ebff;}#sk-container-id-1 div.sk-serial::before {content: \"\";position: absolute;border-left: 1px solid gray;box-sizing: border-box;top: 0;bottom: 0;left: 50%;z-index: 0;}#sk-container-id-1 div.sk-serial {display: flex;flex-direction: column;align-items: center;background-color: white;padding-right: 0.2em;padding-left: 0.2em;position: relative;}#sk-container-id-1 div.sk-item {position: relative;z-index: 1;}#sk-container-id-1 div.sk-parallel {display: flex;align-items: stretch;justify-content: center;background-color: white;position: relative;}#sk-container-id-1 div.sk-item::before, #sk-container-id-1 div.sk-parallel-item::before {content: \"\";position: absolute;border-left: 1px solid gray;box-sizing: border-box;top: 0;bottom: 0;left: 50%;z-index: -1;}#sk-container-id-1 div.sk-parallel-item {display: flex;flex-direction: column;z-index: 1;position: relative;background-color: white;}#sk-container-id-1 div.sk-parallel-item:first-child::after {align-self: flex-end;width: 50%;}#sk-container-id-1 div.sk-parallel-item:last-child::after {align-self: flex-start;width: 50%;}#sk-container-id-1 div.sk-parallel-item:only-child::after {width: 0;}#sk-container-id-1 div.sk-dashed-wrapped {border: 1px dashed gray;margin: 0 0.4em 0.5em 0.4em;box-sizing: border-box;padding-bottom: 0.4em;background-color: white;}#sk-container-id-1 div.sk-label label {font-family: monospace;font-weight: bold;display: inline-block;line-height: 1.2em;}#sk-container-id-1 div.sk-label-container {text-align: center;}#sk-container-id-1 div.sk-container {/* jupyter's `normalize.less` sets `[hidden] { display: none; }` but bootstrap.min.css set `[hidden] { display: none !important; }` so we also need the `!important` here to be able to override the default hidden behavior on the sphinx rendered scikit-learn.org. See: https://github.com/scikit-learn/scikit-learn/issues/21755 */display: inline-block !important;position: relative;}#sk-container-id-1 div.sk-text-repr-fallback {display: none;}</style><div id=\"sk-container-id-1\" class=\"sk-top-container\"><div class=\"sk-text-repr-fallback\"><pre>KMeans(n_clusters=2, random_state=0)</pre><b>In a Jupyter environment, please rerun this cell to show the HTML representation or trust the notebook. <br />On GitHub, the HTML representation is unable to render, please try loading this page with nbviewer.org.</b></div><div class=\"sk-container\" hidden><div class=\"sk-item\"><div class=\"sk-estimator sk-toggleable\"><input class=\"sk-toggleable__control sk-hidden--visually\" id=\"sk-estimator-id-1\" type=\"checkbox\" checked><label for=\"sk-estimator-id-1\" class=\"sk-toggleable__label sk-toggleable__label-arrow\">KMeans</label><div class=\"sk-toggleable__content\"><pre>KMeans(n_clusters=2, random_state=0)</pre></div></div></div></div></div>"
      ],
      "text/plain": [
       "KMeans(n_clusters=2, random_state=0)"
      ]
     },
     "execution_count": 18,
     "metadata": {},
     "output_type": "execute_result"
    }
   ],
   "source": [
    "#defining a KMEANS model with 2 clusters\n",
    "model = KMeans(n_clusters =2, random_state = 0)\n",
    "model.fit(x)  "
   ]
  },
  {
   "cell_type": "code",
   "execution_count": 19,
   "id": "46b34a9d",
   "metadata": {},
   "outputs": [],
   "source": [
    "#scaling and preprocessing data\n",
    "from sklearn.preprocessing import StandardScaler\n",
    "scaler = StandardScaler()\n",
    "X = scaler.fit_transform(x)\n"
   ]
  },
  {
   "cell_type": "code",
   "execution_count": 20,
   "id": "8ecc16f7",
   "metadata": {},
   "outputs": [],
   "source": [
    "#defining clusters for model\n",
    "clusters = model.predict(x)"
   ]
  },
  {
   "cell_type": "code",
   "execution_count": 21,
   "id": "2031f8d9",
   "metadata": {},
   "outputs": [
    {
     "data": {
      "text/plain": [
       "1760935557.5823102"
      ]
     },
     "execution_count": 21,
     "metadata": {},
     "output_type": "execute_result"
    }
   ],
   "source": [
    "#printing model inertia\n",
    "model.inertia_"
   ]
  },
  {
   "cell_type": "code",
   "execution_count": 22,
   "id": "a9994831",
   "metadata": {},
   "outputs": [
    {
     "name": "stderr",
     "output_type": "stream",
     "text": [
      "C:\\Users\\ideod\\anaconda3\\Lib\\site-packages\\sklearn\\cluster\\_kmeans.py:1412: FutureWarning: The default value of `n_init` will change from 10 to 'auto' in 1.4. Set the value of `n_init` explicitly to suppress the warning\n",
      "  super()._check_params_vs_input(X, default_n_init=10)\n"
     ]
    },
    {
     "data": {
      "text/html": [
       "<style>#sk-container-id-2 {color: black;}#sk-container-id-2 pre{padding: 0;}#sk-container-id-2 div.sk-toggleable {background-color: white;}#sk-container-id-2 label.sk-toggleable__label {cursor: pointer;display: block;width: 100%;margin-bottom: 0;padding: 0.3em;box-sizing: border-box;text-align: center;}#sk-container-id-2 label.sk-toggleable__label-arrow:before {content: \"▸\";float: left;margin-right: 0.25em;color: #696969;}#sk-container-id-2 label.sk-toggleable__label-arrow:hover:before {color: black;}#sk-container-id-2 div.sk-estimator:hover label.sk-toggleable__label-arrow:before {color: black;}#sk-container-id-2 div.sk-toggleable__content {max-height: 0;max-width: 0;overflow: hidden;text-align: left;background-color: #f0f8ff;}#sk-container-id-2 div.sk-toggleable__content pre {margin: 0.2em;color: black;border-radius: 0.25em;background-color: #f0f8ff;}#sk-container-id-2 input.sk-toggleable__control:checked~div.sk-toggleable__content {max-height: 200px;max-width: 100%;overflow: auto;}#sk-container-id-2 input.sk-toggleable__control:checked~label.sk-toggleable__label-arrow:before {content: \"▾\";}#sk-container-id-2 div.sk-estimator input.sk-toggleable__control:checked~label.sk-toggleable__label {background-color: #d4ebff;}#sk-container-id-2 div.sk-label input.sk-toggleable__control:checked~label.sk-toggleable__label {background-color: #d4ebff;}#sk-container-id-2 input.sk-hidden--visually {border: 0;clip: rect(1px 1px 1px 1px);clip: rect(1px, 1px, 1px, 1px);height: 1px;margin: -1px;overflow: hidden;padding: 0;position: absolute;width: 1px;}#sk-container-id-2 div.sk-estimator {font-family: monospace;background-color: #f0f8ff;border: 1px dotted black;border-radius: 0.25em;box-sizing: border-box;margin-bottom: 0.5em;}#sk-container-id-2 div.sk-estimator:hover {background-color: #d4ebff;}#sk-container-id-2 div.sk-parallel-item::after {content: \"\";width: 100%;border-bottom: 1px solid gray;flex-grow: 1;}#sk-container-id-2 div.sk-label:hover label.sk-toggleable__label {background-color: #d4ebff;}#sk-container-id-2 div.sk-serial::before {content: \"\";position: absolute;border-left: 1px solid gray;box-sizing: border-box;top: 0;bottom: 0;left: 50%;z-index: 0;}#sk-container-id-2 div.sk-serial {display: flex;flex-direction: column;align-items: center;background-color: white;padding-right: 0.2em;padding-left: 0.2em;position: relative;}#sk-container-id-2 div.sk-item {position: relative;z-index: 1;}#sk-container-id-2 div.sk-parallel {display: flex;align-items: stretch;justify-content: center;background-color: white;position: relative;}#sk-container-id-2 div.sk-item::before, #sk-container-id-2 div.sk-parallel-item::before {content: \"\";position: absolute;border-left: 1px solid gray;box-sizing: border-box;top: 0;bottom: 0;left: 50%;z-index: -1;}#sk-container-id-2 div.sk-parallel-item {display: flex;flex-direction: column;z-index: 1;position: relative;background-color: white;}#sk-container-id-2 div.sk-parallel-item:first-child::after {align-self: flex-end;width: 50%;}#sk-container-id-2 div.sk-parallel-item:last-child::after {align-self: flex-start;width: 50%;}#sk-container-id-2 div.sk-parallel-item:only-child::after {width: 0;}#sk-container-id-2 div.sk-dashed-wrapped {border: 1px dashed gray;margin: 0 0.4em 0.5em 0.4em;box-sizing: border-box;padding-bottom: 0.4em;background-color: white;}#sk-container-id-2 div.sk-label label {font-family: monospace;font-weight: bold;display: inline-block;line-height: 1.2em;}#sk-container-id-2 div.sk-label-container {text-align: center;}#sk-container-id-2 div.sk-container {/* jupyter's `normalize.less` sets `[hidden] { display: none; }` but bootstrap.min.css set `[hidden] { display: none !important; }` so we also need the `!important` here to be able to override the default hidden behavior on the sphinx rendered scikit-learn.org. See: https://github.com/scikit-learn/scikit-learn/issues/21755 */display: inline-block !important;position: relative;}#sk-container-id-2 div.sk-text-repr-fallback {display: none;}</style><div id=\"sk-container-id-2\" class=\"sk-top-container\"><div class=\"sk-text-repr-fallback\"><pre>KMeans(n_clusters=3, random_state=0)</pre><b>In a Jupyter environment, please rerun this cell to show the HTML representation or trust the notebook. <br />On GitHub, the HTML representation is unable to render, please try loading this page with nbviewer.org.</b></div><div class=\"sk-container\" hidden><div class=\"sk-item\"><div class=\"sk-estimator sk-toggleable\"><input class=\"sk-toggleable__control sk-hidden--visually\" id=\"sk-estimator-id-2\" type=\"checkbox\" checked><label for=\"sk-estimator-id-2\" class=\"sk-toggleable__label sk-toggleable__label-arrow\">KMeans</label><div class=\"sk-toggleable__content\"><pre>KMeans(n_clusters=3, random_state=0)</pre></div></div></div></div></div>"
      ],
      "text/plain": [
       "KMeans(n_clusters=3, random_state=0)"
      ]
     },
     "execution_count": 22,
     "metadata": {},
     "output_type": "execute_result"
    }
   ],
   "source": [
    "# trying a different optimal value of k, i.e k = 3\n",
    "model1 = KMeans(n_clusters =3, random_state = 0)\n",
    "model1.fit(x)  "
   ]
  },
  {
   "cell_type": "code",
   "execution_count": 23,
   "id": "c29bd7da",
   "metadata": {},
   "outputs": [
    {
     "data": {
      "text/plain": [
       "671883248.4263504"
      ]
     },
     "execution_count": 23,
     "metadata": {},
     "output_type": "execute_result"
    }
   ],
   "source": [
    "#printing model1 inertia\n",
    "model1.inertia_"
   ]
  },
  {
   "cell_type": "code",
   "execution_count": 24,
   "id": "3cec7c2b",
   "metadata": {},
   "outputs": [
    {
     "name": "stderr",
     "output_type": "stream",
     "text": [
      "C:\\Users\\ideod\\anaconda3\\Lib\\site-packages\\sklearn\\cluster\\_kmeans.py:1412: FutureWarning: The default value of `n_init` will change from 10 to 'auto' in 1.4. Set the value of `n_init` explicitly to suppress the warning\n",
      "  super()._check_params_vs_input(X, default_n_init=10)\n"
     ]
    },
    {
     "name": "stdout",
     "output_type": "stream",
     "text": [
      "[1 1 0 1 0 1 0 1 0 1]\n"
     ]
    }
   ],
   "source": [
    "# printing first 10 data samples for model\n",
    "y = model.fit_predict(x)\n",
    "print(y[0:10])"
   ]
  },
  {
   "cell_type": "code",
   "execution_count": 25,
   "id": "29ed1f04",
   "metadata": {},
   "outputs": [
    {
     "name": "stderr",
     "output_type": "stream",
     "text": [
      "C:\\Users\\ideod\\anaconda3\\Lib\\site-packages\\sklearn\\cluster\\_kmeans.py:1412: FutureWarning: The default value of `n_init` will change from 10 to 'auto' in 1.4. Set the value of `n_init` explicitly to suppress the warning\n",
      "  super()._check_params_vs_input(X, default_n_init=10)\n"
     ]
    },
    {
     "name": "stdout",
     "output_type": "stream",
     "text": [
      "[0 0 0 2 0 0 1 0 1 0]\n"
     ]
    }
   ],
   "source": [
    "# printing first 10 data samples for model1\n",
    "y1 = model1.fit_predict(x)\n",
    "print(y1[0:10])"
   ]
  },
  {
   "cell_type": "code",
   "execution_count": 26,
   "id": "13d09b2e",
   "metadata": {},
   "outputs": [
    {
     "name": "stdout",
     "output_type": "stream",
     "text": [
      "[[ 1.19072753e-02  1.18228265e-02  2.66013596e-02  1.47785331e-03\n",
      "   1.14005827e-03  1.84520542e-02  1.37229236e-02  3.96909175e-03\n",
      "   2.11121902e-03  4.89802812e-03  6.64189503e-02  1.98454588e-03\n",
      "   8.48710045e-03  2.40678968e-03  6.75590086e-04  1.90854199e-02\n",
      "   4.91069544e-02  1.06658389e-17  1.42718406e-02  9.47092851e-02\n",
      "   3.37795043e-04  4.72068572e-02  3.63129671e-03  5.91141325e-04\n",
      "   5.15137440e-03  5.41738800e-02  9.87206013e-02  4.86847106e-02\n",
      "   3.17527340e-02  4.83046911e-02  4.18021366e-03  3.92686737e-03\n",
      "   1.05560951e-03  6.64611747e-02  1.85365030e-02  5.06692564e-04\n",
      "   6.16475953e-03  8.02263227e-04  9.54270996e-03  2.53346282e-04\n",
      "   2.49123844e-03  5.06692564e-04  4.68268378e-02  5.29915973e-02\n",
      "   3.37795043e-04  1.16539290e-02  6.50255458e-03  2.19566778e-03\n",
      "   2.76147448e-02  5.48916945e-03  1.56230207e-03  4.81357936e-03\n",
      "   3.23860997e-02  1.39340455e-03  6.41810581e-02 -1.37390099e-14\n",
      "   3.41393580e-14  3.34732242e-14  5.07959296e-02  1.42524881e-14\n",
      "  -2.21003771e-15 -1.24067423e-14  2.36540979e-01  1.48714268e-01\n",
      "   2.21846894e-01  4.38289068e-02  2.34091965e-01  9.58053118e+02]\n",
      " [ 1.06715333e-02  1.17232206e-02  3.39014507e-02  1.20634724e-03\n",
      "   1.51566705e-03  2.05697671e-02  8.01138297e-03  2.90760617e-03\n",
      "   2.87667419e-03  5.87707631e-03  7.22571066e-02  5.19657274e-03\n",
      "   1.45998948e-02  1.79405487e-03  4.94911689e-04  1.50638745e-02\n",
      "   4.39543444e-02  9.27959417e-05  1.47854867e-02  7.48244610e-02\n",
      "   3.09319806e-04  4.81920257e-02  3.77370163e-03  5.56775650e-04\n",
      "   4.54700114e-03  4.86869374e-02  7.72990195e-02  3.47056822e-02\n",
      "   3.06535927e-02  4.96767608e-02  4.85632095e-03  2.31989854e-03\n",
      "   7.73299514e-04  6.48643633e-02  1.58062421e-02  1.08261932e-03\n",
      "   7.45460732e-03  7.73299514e-04  6.92876365e-03  3.71183767e-04\n",
      "   3.40251786e-03  1.14448328e-03  5.19657274e-02  6.31012404e-02\n",
      "   4.02115747e-04  1.49401466e-02  7.02155959e-03  6.40291998e-03\n",
      "   3.04061369e-02  7.08342355e-03  2.38176250e-03  8.13511089e-03\n",
      "   5.59250209e-02  1.73219091e-03  5.39152056e-15  1.86365183e-01\n",
      "   2.42197408e-01  2.37897863e-01 -2.84494650e-16  1.29759659e-01\n",
      "   3.37777228e-02  1.70002165e-01 -2.91433544e-15  2.28150832e-14\n",
      "  -1.52100554e-14 -1.41553436e-15 -1.80411242e-14  3.71928671e+02]]\n"
     ]
    }
   ],
   "source": [
    "#defining centres for model\n",
    "centres = model.cluster_centers_\n",
    "print(centres)"
   ]
  },
  {
   "cell_type": "code",
   "execution_count": 27,
   "id": "946417b4",
   "metadata": {},
   "outputs": [
    {
     "data": {
      "text/html": [
       "<div>\n",
       "<style scoped>\n",
       "    .dataframe tbody tr th:only-of-type {\n",
       "        vertical-align: middle;\n",
       "    }\n",
       "\n",
       "    .dataframe tbody tr th {\n",
       "        vertical-align: top;\n",
       "    }\n",
       "\n",
       "    .dataframe thead th {\n",
       "        text-align: right;\n",
       "    }\n",
       "</style>\n",
       "<table border=\"1\" class=\"dataframe\">\n",
       "  <thead>\n",
       "    <tr style=\"text-align: right;\">\n",
       "      <th></th>\n",
       "      <th>Crime_Accident</th>\n",
       "      <th>Crime_Admin Error</th>\n",
       "      <th>Crime_Aggravated Assault</th>\n",
       "      <th>Crime_Annoying &amp; Accosting</th>\n",
       "      <th>Crime_Arson</th>\n",
       "      <th>Crime_Auto Theft</th>\n",
       "      <th>Crime_Commercial Break</th>\n",
       "      <th>Crime_Commercial Robbery</th>\n",
       "      <th>Crime_Counterfeiting</th>\n",
       "      <th>Crime_Disorderly</th>\n",
       "      <th>...</th>\n",
       "      <th>Neighborhood_Highlands</th>\n",
       "      <th>Neighborhood_Inman/Harrington</th>\n",
       "      <th>Neighborhood_MIT</th>\n",
       "      <th>Neighborhood_Mid-Cambridge</th>\n",
       "      <th>Neighborhood_North Cambridge</th>\n",
       "      <th>Neighborhood_Peabody</th>\n",
       "      <th>Neighborhood_Riverside</th>\n",
       "      <th>Neighborhood_Strawberry Hill</th>\n",
       "      <th>Neighborhood_West Cambridge</th>\n",
       "      <th>Reporting Area</th>\n",
       "    </tr>\n",
       "  </thead>\n",
       "  <tbody>\n",
       "    <tr>\n",
       "      <th>0</th>\n",
       "      <td>False</td>\n",
       "      <td>False</td>\n",
       "      <td>False</td>\n",
       "      <td>False</td>\n",
       "      <td>False</td>\n",
       "      <td>False</td>\n",
       "      <td>False</td>\n",
       "      <td>False</td>\n",
       "      <td>False</td>\n",
       "      <td>False</td>\n",
       "      <td>...</td>\n",
       "      <td>False</td>\n",
       "      <td>False</td>\n",
       "      <td>False</td>\n",
       "      <td>False</td>\n",
       "      <td>False</td>\n",
       "      <td>False</td>\n",
       "      <td>False</td>\n",
       "      <td>False</td>\n",
       "      <td>False</td>\n",
       "      <td>504.0</td>\n",
       "    </tr>\n",
       "    <tr>\n",
       "      <th>1</th>\n",
       "      <td>False</td>\n",
       "      <td>False</td>\n",
       "      <td>False</td>\n",
       "      <td>False</td>\n",
       "      <td>False</td>\n",
       "      <td>False</td>\n",
       "      <td>False</td>\n",
       "      <td>False</td>\n",
       "      <td>False</td>\n",
       "      <td>False</td>\n",
       "      <td>...</td>\n",
       "      <td>False</td>\n",
       "      <td>False</td>\n",
       "      <td>False</td>\n",
       "      <td>True</td>\n",
       "      <td>False</td>\n",
       "      <td>False</td>\n",
       "      <td>False</td>\n",
       "      <td>False</td>\n",
       "      <td>False</td>\n",
       "      <td>610.0</td>\n",
       "    </tr>\n",
       "    <tr>\n",
       "      <th>2</th>\n",
       "      <td>False</td>\n",
       "      <td>False</td>\n",
       "      <td>True</td>\n",
       "      <td>False</td>\n",
       "      <td>False</td>\n",
       "      <td>False</td>\n",
       "      <td>False</td>\n",
       "      <td>False</td>\n",
       "      <td>False</td>\n",
       "      <td>False</td>\n",
       "      <td>...</td>\n",
       "      <td>False</td>\n",
       "      <td>False</td>\n",
       "      <td>False</td>\n",
       "      <td>False</td>\n",
       "      <td>False</td>\n",
       "      <td>False</td>\n",
       "      <td>True</td>\n",
       "      <td>False</td>\n",
       "      <td>False</td>\n",
       "      <td>708.0</td>\n",
       "    </tr>\n",
       "    <tr>\n",
       "      <th>3</th>\n",
       "      <td>False</td>\n",
       "      <td>False</td>\n",
       "      <td>False</td>\n",
       "      <td>False</td>\n",
       "      <td>False</td>\n",
       "      <td>False</td>\n",
       "      <td>False</td>\n",
       "      <td>False</td>\n",
       "      <td>False</td>\n",
       "      <td>False</td>\n",
       "      <td>...</td>\n",
       "      <td>False</td>\n",
       "      <td>False</td>\n",
       "      <td>False</td>\n",
       "      <td>False</td>\n",
       "      <td>False</td>\n",
       "      <td>False</td>\n",
       "      <td>False</td>\n",
       "      <td>False</td>\n",
       "      <td>False</td>\n",
       "      <td>105.0</td>\n",
       "    </tr>\n",
       "    <tr>\n",
       "      <th>4</th>\n",
       "      <td>False</td>\n",
       "      <td>False</td>\n",
       "      <td>False</td>\n",
       "      <td>False</td>\n",
       "      <td>False</td>\n",
       "      <td>False</td>\n",
       "      <td>False</td>\n",
       "      <td>False</td>\n",
       "      <td>False</td>\n",
       "      <td>True</td>\n",
       "      <td>...</td>\n",
       "      <td>False</td>\n",
       "      <td>False</td>\n",
       "      <td>False</td>\n",
       "      <td>False</td>\n",
       "      <td>False</td>\n",
       "      <td>False</td>\n",
       "      <td>True</td>\n",
       "      <td>False</td>\n",
       "      <td>False</td>\n",
       "      <td>708.0</td>\n",
       "    </tr>\n",
       "    <tr>\n",
       "      <th>...</th>\n",
       "      <td>...</td>\n",
       "      <td>...</td>\n",
       "      <td>...</td>\n",
       "      <td>...</td>\n",
       "      <td>...</td>\n",
       "      <td>...</td>\n",
       "      <td>...</td>\n",
       "      <td>...</td>\n",
       "      <td>...</td>\n",
       "      <td>...</td>\n",
       "      <td>...</td>\n",
       "      <td>...</td>\n",
       "      <td>...</td>\n",
       "      <td>...</td>\n",
       "      <td>...</td>\n",
       "      <td>...</td>\n",
       "      <td>...</td>\n",
       "      <td>...</td>\n",
       "      <td>...</td>\n",
       "      <td>...</td>\n",
       "      <td>...</td>\n",
       "    </tr>\n",
       "    <tr>\n",
       "      <th>56009</th>\n",
       "      <td>False</td>\n",
       "      <td>False</td>\n",
       "      <td>False</td>\n",
       "      <td>False</td>\n",
       "      <td>False</td>\n",
       "      <td>False</td>\n",
       "      <td>False</td>\n",
       "      <td>False</td>\n",
       "      <td>False</td>\n",
       "      <td>False</td>\n",
       "      <td>...</td>\n",
       "      <td>False</td>\n",
       "      <td>False</td>\n",
       "      <td>False</td>\n",
       "      <td>False</td>\n",
       "      <td>False</td>\n",
       "      <td>False</td>\n",
       "      <td>False</td>\n",
       "      <td>False</td>\n",
       "      <td>False</td>\n",
       "      <td>510.0</td>\n",
       "    </tr>\n",
       "    <tr>\n",
       "      <th>56010</th>\n",
       "      <td>False</td>\n",
       "      <td>False</td>\n",
       "      <td>False</td>\n",
       "      <td>False</td>\n",
       "      <td>False</td>\n",
       "      <td>False</td>\n",
       "      <td>False</td>\n",
       "      <td>False</td>\n",
       "      <td>False</td>\n",
       "      <td>False</td>\n",
       "      <td>...</td>\n",
       "      <td>False</td>\n",
       "      <td>False</td>\n",
       "      <td>False</td>\n",
       "      <td>False</td>\n",
       "      <td>True</td>\n",
       "      <td>False</td>\n",
       "      <td>False</td>\n",
       "      <td>False</td>\n",
       "      <td>False</td>\n",
       "      <td>1105.0</td>\n",
       "    </tr>\n",
       "    <tr>\n",
       "      <th>56011</th>\n",
       "      <td>False</td>\n",
       "      <td>False</td>\n",
       "      <td>False</td>\n",
       "      <td>False</td>\n",
       "      <td>False</td>\n",
       "      <td>False</td>\n",
       "      <td>False</td>\n",
       "      <td>False</td>\n",
       "      <td>False</td>\n",
       "      <td>False</td>\n",
       "      <td>...</td>\n",
       "      <td>False</td>\n",
       "      <td>False</td>\n",
       "      <td>False</td>\n",
       "      <td>False</td>\n",
       "      <td>False</td>\n",
       "      <td>False</td>\n",
       "      <td>True</td>\n",
       "      <td>False</td>\n",
       "      <td>False</td>\n",
       "      <td>702.0</td>\n",
       "    </tr>\n",
       "    <tr>\n",
       "      <th>56012</th>\n",
       "      <td>False</td>\n",
       "      <td>False</td>\n",
       "      <td>False</td>\n",
       "      <td>False</td>\n",
       "      <td>False</td>\n",
       "      <td>False</td>\n",
       "      <td>False</td>\n",
       "      <td>False</td>\n",
       "      <td>False</td>\n",
       "      <td>False</td>\n",
       "      <td>...</td>\n",
       "      <td>False</td>\n",
       "      <td>False</td>\n",
       "      <td>False</td>\n",
       "      <td>False</td>\n",
       "      <td>False</td>\n",
       "      <td>False</td>\n",
       "      <td>False</td>\n",
       "      <td>False</td>\n",
       "      <td>True</td>\n",
       "      <td>1002.0</td>\n",
       "    </tr>\n",
       "    <tr>\n",
       "      <th>56013</th>\n",
       "      <td>False</td>\n",
       "      <td>False</td>\n",
       "      <td>False</td>\n",
       "      <td>False</td>\n",
       "      <td>False</td>\n",
       "      <td>False</td>\n",
       "      <td>False</td>\n",
       "      <td>False</td>\n",
       "      <td>False</td>\n",
       "      <td>False</td>\n",
       "      <td>...</td>\n",
       "      <td>False</td>\n",
       "      <td>False</td>\n",
       "      <td>False</td>\n",
       "      <td>False</td>\n",
       "      <td>False</td>\n",
       "      <td>False</td>\n",
       "      <td>False</td>\n",
       "      <td>False</td>\n",
       "      <td>True</td>\n",
       "      <td>1002.0</td>\n",
       "    </tr>\n",
       "  </tbody>\n",
       "</table>\n",
       "<p>56012 rows × 68 columns</p>\n",
       "</div>"
      ],
      "text/plain": [
       "       Crime_Accident  Crime_Admin Error  Crime_Aggravated Assault  \\\n",
       "0               False              False                     False   \n",
       "1               False              False                     False   \n",
       "2               False              False                      True   \n",
       "3               False              False                     False   \n",
       "4               False              False                     False   \n",
       "...               ...                ...                       ...   \n",
       "56009           False              False                     False   \n",
       "56010           False              False                     False   \n",
       "56011           False              False                     False   \n",
       "56012           False              False                     False   \n",
       "56013           False              False                     False   \n",
       "\n",
       "       Crime_Annoying & Accosting  Crime_Arson  Crime_Auto Theft  \\\n",
       "0                           False        False             False   \n",
       "1                           False        False             False   \n",
       "2                           False        False             False   \n",
       "3                           False        False             False   \n",
       "4                           False        False             False   \n",
       "...                           ...          ...               ...   \n",
       "56009                       False        False             False   \n",
       "56010                       False        False             False   \n",
       "56011                       False        False             False   \n",
       "56012                       False        False             False   \n",
       "56013                       False        False             False   \n",
       "\n",
       "       Crime_Commercial Break  Crime_Commercial Robbery  Crime_Counterfeiting  \\\n",
       "0                       False                     False                 False   \n",
       "1                       False                     False                 False   \n",
       "2                       False                     False                 False   \n",
       "3                       False                     False                 False   \n",
       "4                       False                     False                 False   \n",
       "...                       ...                       ...                   ...   \n",
       "56009                   False                     False                 False   \n",
       "56010                   False                     False                 False   \n",
       "56011                   False                     False                 False   \n",
       "56012                   False                     False                 False   \n",
       "56013                   False                     False                 False   \n",
       "\n",
       "       Crime_Disorderly  ...  Neighborhood_Highlands  \\\n",
       "0                 False  ...                   False   \n",
       "1                 False  ...                   False   \n",
       "2                 False  ...                   False   \n",
       "3                 False  ...                   False   \n",
       "4                  True  ...                   False   \n",
       "...                 ...  ...                     ...   \n",
       "56009             False  ...                   False   \n",
       "56010             False  ...                   False   \n",
       "56011             False  ...                   False   \n",
       "56012             False  ...                   False   \n",
       "56013             False  ...                   False   \n",
       "\n",
       "       Neighborhood_Inman/Harrington  Neighborhood_MIT  \\\n",
       "0                              False             False   \n",
       "1                              False             False   \n",
       "2                              False             False   \n",
       "3                              False             False   \n",
       "4                              False             False   \n",
       "...                              ...               ...   \n",
       "56009                          False             False   \n",
       "56010                          False             False   \n",
       "56011                          False             False   \n",
       "56012                          False             False   \n",
       "56013                          False             False   \n",
       "\n",
       "       Neighborhood_Mid-Cambridge  Neighborhood_North Cambridge  \\\n",
       "0                           False                         False   \n",
       "1                            True                         False   \n",
       "2                           False                         False   \n",
       "3                           False                         False   \n",
       "4                           False                         False   \n",
       "...                           ...                           ...   \n",
       "56009                       False                         False   \n",
       "56010                       False                          True   \n",
       "56011                       False                         False   \n",
       "56012                       False                         False   \n",
       "56013                       False                         False   \n",
       "\n",
       "       Neighborhood_Peabody  Neighborhood_Riverside  \\\n",
       "0                     False                   False   \n",
       "1                     False                   False   \n",
       "2                     False                    True   \n",
       "3                     False                   False   \n",
       "4                     False                    True   \n",
       "...                     ...                     ...   \n",
       "56009                 False                   False   \n",
       "56010                 False                   False   \n",
       "56011                 False                    True   \n",
       "56012                 False                   False   \n",
       "56013                 False                   False   \n",
       "\n",
       "       Neighborhood_Strawberry Hill  Neighborhood_West Cambridge  \\\n",
       "0                             False                        False   \n",
       "1                             False                        False   \n",
       "2                             False                        False   \n",
       "3                             False                        False   \n",
       "4                             False                        False   \n",
       "...                             ...                          ...   \n",
       "56009                         False                        False   \n",
       "56010                         False                        False   \n",
       "56011                         False                        False   \n",
       "56012                         False                         True   \n",
       "56013                         False                         True   \n",
       "\n",
       "       Reporting Area  \n",
       "0               504.0  \n",
       "1               610.0  \n",
       "2               708.0  \n",
       "3               105.0  \n",
       "4               708.0  \n",
       "...               ...  \n",
       "56009           510.0  \n",
       "56010          1105.0  \n",
       "56011           702.0  \n",
       "56012          1002.0  \n",
       "56013          1002.0  \n",
       "\n",
       "[56012 rows x 68 columns]"
      ]
     },
     "execution_count": 27,
     "metadata": {},
     "output_type": "execute_result"
    }
   ],
   "source": [
    "df_onehot"
   ]
  },
  {
   "cell_type": "code",
   "execution_count": 28,
   "id": "cd887af5",
   "metadata": {},
   "outputs": [],
   "source": [
    "df_onehot = df_onehot.drop(df_onehot.columns[[0]],axis = 1)"
   ]
  },
  {
   "cell_type": "code",
   "execution_count": 34,
   "id": "850bd6ba",
   "metadata": {},
   "outputs": [
    {
     "data": {
      "text/plain": [
       "Text(0, 0.5, 'Reporting Area')"
      ]
     },
     "execution_count": 34,
     "metadata": {},
     "output_type": "execute_result"
    },
    {
     "data": {
      "image/png": "[encoded data removed]",
      "text/plain": [
       "<Figure size 640x480 with 1 Axes>"
      ]
     },
     "metadata": {},
     "output_type": "display_data"
    }
   ],
   "source": [
    "#plotting KMeans cluster between Crime and Reporting Area columns\n",
    "import matplotlib.pyplot as plt\n",
    "colors = ['magenta', 'blue', 'yellow']\n",
    "for i in range(3):\n",
    "    plt.scatter(x[y1 == i, 1], x[y1 == i, 67], c=colors[i])\n",
    "plt.scatter(model1.cluster_centers_[:, 1], model1.cluster_centers_[:, 67], color='red', marker='+', s=300)\n",
    "plt.title('K-Means Clustering')\n",
    "plt.xlabel('Crime')\n",
    "plt.ylabel('Reporting Area')"
   ]
  },
  {
   "cell_type": "code",
   "execution_count": 33,
   "id": "1ceb4456",
   "metadata": {},
   "outputs": [
    {
     "ename": "MemoryError",
     "evalue": "Unable to allocate 11.7 GiB for an array with shape (1568644066,) and data type float64",
     "output_type": "error",
     "traceback": [
      "\u001b[1;31m---------------------------------------------------------------------------\u001b[0m",
      "\u001b[1;31mMemoryError\u001b[0m                               Traceback (most recent call last)",
      "Cell \u001b[1;32mIn[33], line 14\u001b[0m\n\u001b[0;32m     12\u001b[0m plt\u001b[38;5;241m.\u001b[39mxlabel(\u001b[38;5;124m'\u001b[39m\u001b[38;5;124mCrime\u001b[39m\u001b[38;5;124m'\u001b[39m)\n\u001b[0;32m     13\u001b[0m plt\u001b[38;5;241m.\u001b[39mylabel(\u001b[38;5;124m'\u001b[39m\u001b[38;5;124mEuclidean distances\u001b[39m\u001b[38;5;124m'\u001b[39m)\n\u001b[1;32m---> 14\u001b[0m dendrogram \u001b[38;5;241m=\u001b[39m sch\u001b[38;5;241m.\u001b[39mdendrogram(sch\u001b[38;5;241m.\u001b[39mlinkage(x, method \u001b[38;5;241m=\u001b[39m\u001b[38;5;124m'\u001b[39m\u001b[38;5;124mward\u001b[39m\u001b[38;5;124m'\u001b[39m),\n\u001b[0;32m     15\u001b[0m                             color_threshold\u001b[38;5;241m=\u001b[39m\u001b[38;5;241m200\u001b[39m, \n\u001b[0;32m     16\u001b[0m                             above_threshold_color\u001b[38;5;241m=\u001b[39m\u001b[38;5;124m'\u001b[39m\u001b[38;5;124mred\u001b[39m\u001b[38;5;124m'\u001b[39m) \n\u001b[0;32m     17\u001b[0m plt\u001b[38;5;241m.\u001b[39mshow()\n",
      "File \u001b[1;32m~\\anaconda3\\Lib\\site-packages\\scipy\\cluster\\hierarchy.py:1059\u001b[0m, in \u001b[0;36mlinkage\u001b[1;34m(y, method, metric, optimal_ordering)\u001b[0m\n\u001b[0;32m   1055\u001b[0m         \u001b[38;5;28;01mif\u001b[39;00m np\u001b[38;5;241m.\u001b[39mall(y \u001b[38;5;241m>\u001b[39m\u001b[38;5;241m=\u001b[39m \u001b[38;5;241m0\u001b[39m) \u001b[38;5;129;01mand\u001b[39;00m np\u001b[38;5;241m.\u001b[39mallclose(y, y\u001b[38;5;241m.\u001b[39mT):\n\u001b[0;32m   1056\u001b[0m             _warning(\u001b[38;5;124m'\u001b[39m\u001b[38;5;124mThe symmetric non-negative hollow observation \u001b[39m\u001b[38;5;124m'\u001b[39m\n\u001b[0;32m   1057\u001b[0m                      \u001b[38;5;124m'\u001b[39m\u001b[38;5;124mmatrix looks suspiciously like an uncondensed \u001b[39m\u001b[38;5;124m'\u001b[39m\n\u001b[0;32m   1058\u001b[0m                      \u001b[38;5;124m'\u001b[39m\u001b[38;5;124mdistance matrix\u001b[39m\u001b[38;5;124m'\u001b[39m)\n\u001b[1;32m-> 1059\u001b[0m     y \u001b[38;5;241m=\u001b[39m distance\u001b[38;5;241m.\u001b[39mpdist(y, metric)\n\u001b[0;32m   1060\u001b[0m \u001b[38;5;28;01melse\u001b[39;00m:\n\u001b[0;32m   1061\u001b[0m     \u001b[38;5;28;01mraise\u001b[39;00m \u001b[38;5;167;01mValueError\u001b[39;00m(\u001b[38;5;124m\"\u001b[39m\u001b[38;5;124m`y` must be 1 or 2 dimensional.\u001b[39m\u001b[38;5;124m\"\u001b[39m)\n",
      "File \u001b[1;32m~\\anaconda3\\Lib\\site-packages\\scipy\\spatial\\distance.py:2220\u001b[0m, in \u001b[0;36mpdist\u001b[1;34m(X, metric, out, **kwargs)\u001b[0m\n\u001b[0;32m   2218\u001b[0m     pdist_fn \u001b[38;5;241m=\u001b[39m metric_info\u001b[38;5;241m.\u001b[39mpdist_func\n\u001b[0;32m   2219\u001b[0m     _extra_windows_error_checks(X, out, (m \u001b[38;5;241m*\u001b[39m (m \u001b[38;5;241m-\u001b[39m \u001b[38;5;241m1\u001b[39m) \u001b[38;5;241m/\u001b[39m \u001b[38;5;241m2\u001b[39m,), \u001b[38;5;241m*\u001b[39m\u001b[38;5;241m*\u001b[39mkwargs)\n\u001b[1;32m-> 2220\u001b[0m     \u001b[38;5;28;01mreturn\u001b[39;00m pdist_fn(X, out\u001b[38;5;241m=\u001b[39mout, \u001b[38;5;241m*\u001b[39m\u001b[38;5;241m*\u001b[39mkwargs)\n\u001b[0;32m   2221\u001b[0m \u001b[38;5;28;01melif\u001b[39;00m mstr\u001b[38;5;241m.\u001b[39mstartswith(\u001b[38;5;124m\"\u001b[39m\u001b[38;5;124mtest_\u001b[39m\u001b[38;5;124m\"\u001b[39m):\n\u001b[0;32m   2222\u001b[0m     metric_info \u001b[38;5;241m=\u001b[39m _TEST_METRICS\u001b[38;5;241m.\u001b[39mget(mstr, \u001b[38;5;28;01mNone\u001b[39;00m)\n",
      "\u001b[1;31mMemoryError\u001b[0m: Unable to allocate 11.7 GiB for an array with shape (1568644066,) and data type float64"
     ]
    },
    {
     "data": {
      "image/png": "[encoded data removed]",
      "text/plain": [
       "<Figure size 1800x1000 with 1 Axes>"
      ]
     },
     "metadata": {},
     "output_type": "display_data"
    }
   ],
   "source": [
    "#HIERARCHICAL clustering part of Agglomerative clustering:\n",
    "\n",
    "# down loading Scipy library\n",
    "\n",
    "\n",
    "# generating Agglomerative Clustering, (i.e. a Dendogram)\n",
    "\n",
    "\n",
    "#SciPy Dendogram (structuring\n",
    "plt.figure(figsize=(18,10))\n",
    "plt.title('Dendrogram')\n",
    "plt.xlabel('Crime')\n",
    "plt.ylabel('Euclidean distances')\n",
    "dendrogram = sch.dendrogram(sch.linkage(x, method ='ward'),\n",
    "                            color_threshold=200, \n",
    "                            above_threshold_color='red') \n",
    "plt.show()\n",
    "\n"
   ]
  },
  {
   "cell_type": "code",
   "execution_count": 31,
   "id": "07289e8f",
   "metadata": {},
   "outputs": [
    {
     "name": "stderr",
     "output_type": "stream",
     "text": [
      "C:\\Users\\ideod\\anaconda3\\Lib\\site-packages\\sklearn\\cluster\\_agglomerative.py:1005: FutureWarning: Attribute `affinity` was deprecated in version 1.2 and will be removed in 1.4. Use `metric` instead\n",
      "  warnings.warn(\n"
     ]
    },
    {
     "ename": "MemoryError",
     "evalue": "Unable to allocate 11.7 GiB for an array with shape (1568644066,) and data type float64",
     "output_type": "error",
     "traceback": [
      "\u001b[1;31m---------------------------------------------------------------------------\u001b[0m",
      "\u001b[1;31mMemoryError\u001b[0m                               Traceback (most recent call last)",
      "Cell \u001b[1;32mIn[31], line 4\u001b[0m\n\u001b[0;32m      1\u001b[0m \u001b[38;5;66;03m# SciKitLearn HIERARCHICAL clustering part of Agglomerative clustering -WITH 3 clusters\u001b[39;00m\n\u001b[0;32m      2\u001b[0m modelHC \u001b[38;5;241m=\u001b[39m AgglomerativeClustering(n_clusters \u001b[38;5;241m=\u001b[39m \u001b[38;5;241m3\u001b[39m, affinity \u001b[38;5;241m=\u001b[39m\u001b[38;5;124m'\u001b[39m\u001b[38;5;124meuclidean\u001b[39m\u001b[38;5;124m'\u001b[39m,\n\u001b[0;32m      3\u001b[0m                                  linkage \u001b[38;5;241m=\u001b[39m\u001b[38;5;124m'\u001b[39m\u001b[38;5;124mward\u001b[39m\u001b[38;5;124m'\u001b[39m)\n\u001b[1;32m----> 4\u001b[0m yHC \u001b[38;5;241m=\u001b[39m modelHC\u001b[38;5;241m.\u001b[39mfit_predict(df_onehot)\n\u001b[0;32m      6\u001b[0m plt\u001b[38;5;241m.\u001b[39mscatter(x[:, \u001b[38;5;241m1\u001b[39m], x[:, \u001b[38;5;241m67\u001b[39m], c\u001b[38;5;241m=\u001b[39myHC, cmap\u001b[38;5;241m=\u001b[39m\u001b[38;5;124m\"\u001b[39m\u001b[38;5;124mrainbow\u001b[39m\u001b[38;5;124m\"\u001b[39m)\n\u001b[0;32m      7\u001b[0m plt\u001b[38;5;241m.\u001b[39mxlabel(\u001b[38;5;124m'\u001b[39m\u001b[38;5;124mCrime Accident\u001b[39m\u001b[38;5;124m'\u001b[39m)\n",
      "File \u001b[1;32m~\\anaconda3\\Lib\\site-packages\\sklearn\\cluster\\_agglomerative.py:1123\u001b[0m, in \u001b[0;36mAgglomerativeClustering.fit_predict\u001b[1;34m(self, X, y)\u001b[0m\n\u001b[0;32m   1102\u001b[0m \u001b[38;5;28;01mdef\u001b[39;00m \u001b[38;5;21mfit_predict\u001b[39m(\u001b[38;5;28mself\u001b[39m, X, y\u001b[38;5;241m=\u001b[39m\u001b[38;5;28;01mNone\u001b[39;00m):\n\u001b[0;32m   1103\u001b[0m \u001b[38;5;250m    \u001b[39m\u001b[38;5;124;03m\"\"\"Fit and return the result of each sample's clustering assignment.\u001b[39;00m\n\u001b[0;32m   1104\u001b[0m \n\u001b[0;32m   1105\u001b[0m \u001b[38;5;124;03m    In addition to fitting, this method also return the result of the\u001b[39;00m\n\u001b[1;32m   (...)\u001b[0m\n\u001b[0;32m   1121\u001b[0m \u001b[38;5;124;03m        Cluster labels.\u001b[39;00m\n\u001b[0;32m   1122\u001b[0m \u001b[38;5;124;03m    \"\"\"\u001b[39;00m\n\u001b[1;32m-> 1123\u001b[0m     \u001b[38;5;28;01mreturn\u001b[39;00m \u001b[38;5;28msuper\u001b[39m()\u001b[38;5;241m.\u001b[39mfit_predict(X, y)\n",
      "File \u001b[1;32m~\\anaconda3\\Lib\\site-packages\\sklearn\\base.py:790\u001b[0m, in \u001b[0;36mClusterMixin.fit_predict\u001b[1;34m(self, X, y)\u001b[0m\n\u001b[0;32m    772\u001b[0m \u001b[38;5;250m\u001b[39m\u001b[38;5;124;03m\"\"\"\u001b[39;00m\n\u001b[0;32m    773\u001b[0m \u001b[38;5;124;03mPerform clustering on `X` and returns cluster labels.\u001b[39;00m\n\u001b[0;32m    774\u001b[0m \n\u001b[1;32m   (...)\u001b[0m\n\u001b[0;32m    786\u001b[0m \u001b[38;5;124;03m    Cluster labels.\u001b[39;00m\n\u001b[0;32m    787\u001b[0m \u001b[38;5;124;03m\"\"\"\u001b[39;00m\n\u001b[0;32m    788\u001b[0m \u001b[38;5;66;03m# non-optimized default implementation; override when a better\u001b[39;00m\n\u001b[0;32m    789\u001b[0m \u001b[38;5;66;03m# method is possible for a given clustering algorithm\u001b[39;00m\n\u001b[1;32m--> 790\u001b[0m \u001b[38;5;28mself\u001b[39m\u001b[38;5;241m.\u001b[39mfit(X)\n\u001b[0;32m    791\u001b[0m \u001b[38;5;28;01mreturn\u001b[39;00m \u001b[38;5;28mself\u001b[39m\u001b[38;5;241m.\u001b[39mlabels_\n",
      "File \u001b[1;32m~\\anaconda3\\Lib\\site-packages\\sklearn\\base.py:1151\u001b[0m, in \u001b[0;36m_fit_context.<locals>.decorator.<locals>.wrapper\u001b[1;34m(estimator, *args, **kwargs)\u001b[0m\n\u001b[0;32m   1144\u001b[0m     estimator\u001b[38;5;241m.\u001b[39m_validate_params()\n\u001b[0;32m   1146\u001b[0m \u001b[38;5;28;01mwith\u001b[39;00m config_context(\n\u001b[0;32m   1147\u001b[0m     skip_parameter_validation\u001b[38;5;241m=\u001b[39m(\n\u001b[0;32m   1148\u001b[0m         prefer_skip_nested_validation \u001b[38;5;129;01mor\u001b[39;00m global_skip_validation\n\u001b[0;32m   1149\u001b[0m     )\n\u001b[0;32m   1150\u001b[0m ):\n\u001b[1;32m-> 1151\u001b[0m     \u001b[38;5;28;01mreturn\u001b[39;00m fit_method(estimator, \u001b[38;5;241m*\u001b[39margs, \u001b[38;5;241m*\u001b[39m\u001b[38;5;241m*\u001b[39mkwargs)\n",
      "File \u001b[1;32m~\\anaconda3\\Lib\\site-packages\\sklearn\\cluster\\_agglomerative.py:978\u001b[0m, in \u001b[0;36mAgglomerativeClustering.fit\u001b[1;34m(self, X, y)\u001b[0m\n\u001b[0;32m    960\u001b[0m \u001b[38;5;250m\u001b[39m\u001b[38;5;124;03m\"\"\"Fit the hierarchical clustering from features, or distance matrix.\u001b[39;00m\n\u001b[0;32m    961\u001b[0m \n\u001b[0;32m    962\u001b[0m \u001b[38;5;124;03mParameters\u001b[39;00m\n\u001b[1;32m   (...)\u001b[0m\n\u001b[0;32m    975\u001b[0m \u001b[38;5;124;03m    Returns the fitted instance.\u001b[39;00m\n\u001b[0;32m    976\u001b[0m \u001b[38;5;124;03m\"\"\"\u001b[39;00m\n\u001b[0;32m    977\u001b[0m X \u001b[38;5;241m=\u001b[39m \u001b[38;5;28mself\u001b[39m\u001b[38;5;241m.\u001b[39m_validate_data(X, ensure_min_samples\u001b[38;5;241m=\u001b[39m\u001b[38;5;241m2\u001b[39m)\n\u001b[1;32m--> 978\u001b[0m \u001b[38;5;28;01mreturn\u001b[39;00m \u001b[38;5;28mself\u001b[39m\u001b[38;5;241m.\u001b[39m_fit(X)\n",
      "File \u001b[1;32m~\\anaconda3\\Lib\\site-packages\\sklearn\\cluster\\_agglomerative.py:1070\u001b[0m, in \u001b[0;36mAgglomerativeClustering._fit\u001b[1;34m(self, X)\u001b[0m\n\u001b[0;32m   1066\u001b[0m distance_threshold \u001b[38;5;241m=\u001b[39m \u001b[38;5;28mself\u001b[39m\u001b[38;5;241m.\u001b[39mdistance_threshold\n\u001b[0;32m   1068\u001b[0m return_distance \u001b[38;5;241m=\u001b[39m (distance_threshold \u001b[38;5;129;01mis\u001b[39;00m \u001b[38;5;129;01mnot\u001b[39;00m \u001b[38;5;28;01mNone\u001b[39;00m) \u001b[38;5;129;01mor\u001b[39;00m \u001b[38;5;28mself\u001b[39m\u001b[38;5;241m.\u001b[39mcompute_distances\n\u001b[1;32m-> 1070\u001b[0m out \u001b[38;5;241m=\u001b[39m memory\u001b[38;5;241m.\u001b[39mcache(tree_builder)(\n\u001b[0;32m   1071\u001b[0m     X,\n\u001b[0;32m   1072\u001b[0m     connectivity\u001b[38;5;241m=\u001b[39mconnectivity,\n\u001b[0;32m   1073\u001b[0m     n_clusters\u001b[38;5;241m=\u001b[39mn_clusters,\n\u001b[0;32m   1074\u001b[0m     return_distance\u001b[38;5;241m=\u001b[39mreturn_distance,\n\u001b[0;32m   1075\u001b[0m     \u001b[38;5;241m*\u001b[39m\u001b[38;5;241m*\u001b[39mkwargs,\n\u001b[0;32m   1076\u001b[0m )\n\u001b[0;32m   1077\u001b[0m (\u001b[38;5;28mself\u001b[39m\u001b[38;5;241m.\u001b[39mchildren_, \u001b[38;5;28mself\u001b[39m\u001b[38;5;241m.\u001b[39mn_connected_components_, \u001b[38;5;28mself\u001b[39m\u001b[38;5;241m.\u001b[39mn_leaves_, parents) \u001b[38;5;241m=\u001b[39m out[\n\u001b[0;32m   1078\u001b[0m     :\u001b[38;5;241m4\u001b[39m\n\u001b[0;32m   1079\u001b[0m ]\n\u001b[0;32m   1081\u001b[0m \u001b[38;5;28;01mif\u001b[39;00m return_distance:\n",
      "File \u001b[1;32m~\\anaconda3\\Lib\\site-packages\\joblib\\memory.py:349\u001b[0m, in \u001b[0;36mNotMemorizedFunc.__call__\u001b[1;34m(self, *args, **kwargs)\u001b[0m\n\u001b[0;32m    348\u001b[0m \u001b[38;5;28;01mdef\u001b[39;00m \u001b[38;5;21m__call__\u001b[39m(\u001b[38;5;28mself\u001b[39m, \u001b[38;5;241m*\u001b[39margs, \u001b[38;5;241m*\u001b[39m\u001b[38;5;241m*\u001b[39mkwargs):\n\u001b[1;32m--> 349\u001b[0m     \u001b[38;5;28;01mreturn\u001b[39;00m \u001b[38;5;28mself\u001b[39m\u001b[38;5;241m.\u001b[39mfunc(\u001b[38;5;241m*\u001b[39margs, \u001b[38;5;241m*\u001b[39m\u001b[38;5;241m*\u001b[39mkwargs)\n",
      "File \u001b[1;32m~\\anaconda3\\Lib\\site-packages\\sklearn\\utils\\_param_validation.py:184\u001b[0m, in \u001b[0;36mvalidate_params.<locals>.decorator.<locals>.wrapper\u001b[1;34m(*args, **kwargs)\u001b[0m\n\u001b[0;32m    182\u001b[0m global_skip_validation \u001b[38;5;241m=\u001b[39m get_config()[\u001b[38;5;124m\"\u001b[39m\u001b[38;5;124mskip_parameter_validation\u001b[39m\u001b[38;5;124m\"\u001b[39m]\n\u001b[0;32m    183\u001b[0m \u001b[38;5;28;01mif\u001b[39;00m global_skip_validation:\n\u001b[1;32m--> 184\u001b[0m     \u001b[38;5;28;01mreturn\u001b[39;00m func(\u001b[38;5;241m*\u001b[39margs, \u001b[38;5;241m*\u001b[39m\u001b[38;5;241m*\u001b[39mkwargs)\n\u001b[0;32m    186\u001b[0m func_sig \u001b[38;5;241m=\u001b[39m signature(func)\n\u001b[0;32m    188\u001b[0m \u001b[38;5;66;03m# Map *args/**kwargs to the function signature\u001b[39;00m\n",
      "File \u001b[1;32m~\\anaconda3\\Lib\\site-packages\\sklearn\\cluster\\_agglomerative.py:294\u001b[0m, in \u001b[0;36mward_tree\u001b[1;34m(X, connectivity, n_clusters, return_distance)\u001b[0m\n\u001b[0;32m    282\u001b[0m     warnings\u001b[38;5;241m.\u001b[39mwarn(\n\u001b[0;32m    283\u001b[0m         (\n\u001b[0;32m    284\u001b[0m             \u001b[38;5;124m\"\u001b[39m\u001b[38;5;124mPartial build of the tree is implemented \u001b[39m\u001b[38;5;124m\"\u001b[39m\n\u001b[1;32m   (...)\u001b[0m\n\u001b[0;32m    291\u001b[0m         stacklevel\u001b[38;5;241m=\u001b[39m\u001b[38;5;241m2\u001b[39m,\n\u001b[0;32m    292\u001b[0m     )\n\u001b[0;32m    293\u001b[0m X \u001b[38;5;241m=\u001b[39m np\u001b[38;5;241m.\u001b[39mrequire(X, requirements\u001b[38;5;241m=\u001b[39m\u001b[38;5;124m\"\u001b[39m\u001b[38;5;124mW\u001b[39m\u001b[38;5;124m\"\u001b[39m)\n\u001b[1;32m--> 294\u001b[0m out \u001b[38;5;241m=\u001b[39m hierarchy\u001b[38;5;241m.\u001b[39mward(X)\n\u001b[0;32m    295\u001b[0m children_ \u001b[38;5;241m=\u001b[39m out[:, :\u001b[38;5;241m2\u001b[39m]\u001b[38;5;241m.\u001b[39mastype(np\u001b[38;5;241m.\u001b[39mintp)\n\u001b[0;32m    297\u001b[0m \u001b[38;5;28;01mif\u001b[39;00m return_distance:\n",
      "File \u001b[1;32m~\\anaconda3\\Lib\\site-packages\\scipy\\cluster\\hierarchy.py:833\u001b[0m, in \u001b[0;36mward\u001b[1;34m(y)\u001b[0m\n\u001b[0;32m    737\u001b[0m \u001b[38;5;28;01mdef\u001b[39;00m \u001b[38;5;21mward\u001b[39m(y):\n\u001b[0;32m    738\u001b[0m \u001b[38;5;250m    \u001b[39m\u001b[38;5;124;03m\"\"\"\u001b[39;00m\n\u001b[0;32m    739\u001b[0m \u001b[38;5;124;03m    Perform Ward's linkage on a condensed distance matrix.\u001b[39;00m\n\u001b[0;32m    740\u001b[0m \n\u001b[1;32m   (...)\u001b[0m\n\u001b[0;32m    831\u001b[0m \n\u001b[0;32m    832\u001b[0m \u001b[38;5;124;03m    \"\"\"\u001b[39;00m\n\u001b[1;32m--> 833\u001b[0m     \u001b[38;5;28;01mreturn\u001b[39;00m linkage(y, method\u001b[38;5;241m=\u001b[39m\u001b[38;5;124m'\u001b[39m\u001b[38;5;124mward\u001b[39m\u001b[38;5;124m'\u001b[39m, metric\u001b[38;5;241m=\u001b[39m\u001b[38;5;124m'\u001b[39m\u001b[38;5;124meuclidean\u001b[39m\u001b[38;5;124m'\u001b[39m)\n",
      "File \u001b[1;32m~\\anaconda3\\Lib\\site-packages\\scipy\\cluster\\hierarchy.py:1059\u001b[0m, in \u001b[0;36mlinkage\u001b[1;34m(y, method, metric, optimal_ordering)\u001b[0m\n\u001b[0;32m   1055\u001b[0m         \u001b[38;5;28;01mif\u001b[39;00m np\u001b[38;5;241m.\u001b[39mall(y \u001b[38;5;241m>\u001b[39m\u001b[38;5;241m=\u001b[39m \u001b[38;5;241m0\u001b[39m) \u001b[38;5;129;01mand\u001b[39;00m np\u001b[38;5;241m.\u001b[39mallclose(y, y\u001b[38;5;241m.\u001b[39mT):\n\u001b[0;32m   1056\u001b[0m             _warning(\u001b[38;5;124m'\u001b[39m\u001b[38;5;124mThe symmetric non-negative hollow observation \u001b[39m\u001b[38;5;124m'\u001b[39m\n\u001b[0;32m   1057\u001b[0m                      \u001b[38;5;124m'\u001b[39m\u001b[38;5;124mmatrix looks suspiciously like an uncondensed \u001b[39m\u001b[38;5;124m'\u001b[39m\n\u001b[0;32m   1058\u001b[0m                      \u001b[38;5;124m'\u001b[39m\u001b[38;5;124mdistance matrix\u001b[39m\u001b[38;5;124m'\u001b[39m)\n\u001b[1;32m-> 1059\u001b[0m     y \u001b[38;5;241m=\u001b[39m distance\u001b[38;5;241m.\u001b[39mpdist(y, metric)\n\u001b[0;32m   1060\u001b[0m \u001b[38;5;28;01melse\u001b[39;00m:\n\u001b[0;32m   1061\u001b[0m     \u001b[38;5;28;01mraise\u001b[39;00m \u001b[38;5;167;01mValueError\u001b[39;00m(\u001b[38;5;124m\"\u001b[39m\u001b[38;5;124m`y` must be 1 or 2 dimensional.\u001b[39m\u001b[38;5;124m\"\u001b[39m)\n",
      "File \u001b[1;32m~\\anaconda3\\Lib\\site-packages\\scipy\\spatial\\distance.py:2220\u001b[0m, in \u001b[0;36mpdist\u001b[1;34m(X, metric, out, **kwargs)\u001b[0m\n\u001b[0;32m   2218\u001b[0m     pdist_fn \u001b[38;5;241m=\u001b[39m metric_info\u001b[38;5;241m.\u001b[39mpdist_func\n\u001b[0;32m   2219\u001b[0m     _extra_windows_error_checks(X, out, (m \u001b[38;5;241m*\u001b[39m (m \u001b[38;5;241m-\u001b[39m \u001b[38;5;241m1\u001b[39m) \u001b[38;5;241m/\u001b[39m \u001b[38;5;241m2\u001b[39m,), \u001b[38;5;241m*\u001b[39m\u001b[38;5;241m*\u001b[39mkwargs)\n\u001b[1;32m-> 2220\u001b[0m     \u001b[38;5;28;01mreturn\u001b[39;00m pdist_fn(X, out\u001b[38;5;241m=\u001b[39mout, \u001b[38;5;241m*\u001b[39m\u001b[38;5;241m*\u001b[39mkwargs)\n\u001b[0;32m   2221\u001b[0m \u001b[38;5;28;01melif\u001b[39;00m mstr\u001b[38;5;241m.\u001b[39mstartswith(\u001b[38;5;124m\"\u001b[39m\u001b[38;5;124mtest_\u001b[39m\u001b[38;5;124m\"\u001b[39m):\n\u001b[0;32m   2222\u001b[0m     metric_info \u001b[38;5;241m=\u001b[39m _TEST_METRICS\u001b[38;5;241m.\u001b[39mget(mstr, \u001b[38;5;28;01mNone\u001b[39;00m)\n",
      "\u001b[1;31mMemoryError\u001b[0m: Unable to allocate 11.7 GiB for an array with shape (1568644066,) and data type float64"
     ]
    }
   ],
   "source": [
    "# SciKitLearn HIERARCHICAL clustering part of Agglomerative clustering -WITH 3 clusters\n",
    "modelHC = AgglomerativeClustering(n_clusters = 3, affinity ='euclidean',\n",
    "                                 linkage ='ward')\n",
    "yHC = modelHC.fit_predict(df_onehot)\n",
    "\n",
    "plt.scatter(x[:, 1], x[:, 67], c=yHC, cmap=\"rainbow\")\n",
    "plt.xlabel('Crime Accident')\n",
    "plt.ylabel('Reporting area')\n",
    "plt.title(\"SciKitLearn Agglomerative Clustering\")\n",
    "plt.show()"
   ]
  },
  {
   "cell_type": "code",
   "execution_count": 32,
   "id": "89923d0d",
   "metadata": {},
   "outputs": [
    {
     "name": "stdout",
     "output_type": "stream",
     "text": [
      "HIERARCHICAL CLUSTERING IS GIVING MEMORY ERRORS ABOVE, DUE TO NATURE OF THE DATASET\n"
     ]
    }
   ],
   "source": [
    "#MEMORY ERRORS\n",
    "\n",
    "print(\"HIERARCHICAL CLUSTERING IS GIVING MEMORY ERRORS ABOVE, DUE TO NATURE OF THE DATASET\")"
   ]
  },
  {
   "cell_type": "code",
   "execution_count": null,
   "id": "7bafbb12",
   "metadata": {},
   "outputs": [],
   "source": []
  }
 ],
 "metadata": {
  "kernelspec": {
   "display_name": "Python 3 (ipykernel)",
   "language": "python",
   "name": "python3"
  },
  "language_info": {
   "codemirror_mode": {
    "name": "ipython",
    "version": 3
   },
   "file_extension": ".py",
   "mimetype": "text/x-python",
   "name": "python",
   "nbconvert_exporter": "python",
   "pygments_lexer": "ipython3",
   "version": "3.11.5"
  }
 },
 "nbformat": 4,
 "nbformat_minor": 5
}
